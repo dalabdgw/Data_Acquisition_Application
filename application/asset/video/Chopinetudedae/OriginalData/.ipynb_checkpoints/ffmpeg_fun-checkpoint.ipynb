{
 "cells": [
  {
   "cell_type": "markdown",
   "id": "008c989e-18cc-4b30-9a69-bc4765d5b65a",
   "metadata": {},
   "source": [
    " # ffmpeg로 비디오 자르기\n",
    "\n",
    "Input : 원하는 SEC\n",
    "OUTPUT : 동영상 FIle"
   ]
  },
  {
   "cell_type": "code",
   "execution_count": 1,
   "id": "282bc6f4-158b-4ac2-ad0b-dd79e9688b35",
   "metadata": {
    "scrolled": true
   },
   "outputs": [
    {
     "name": "stdout",
     "output_type": "stream",
     "text": [
      "ffmpeg version 6.0 Copyright (c) 2000-2023 the FFmpeg developers\n",
      "  built with Apple clang version 14.0.3 (clang-1403.0.22.14.1)\n",
      "  configuration: --prefix=/opt/homebrew/Cellar/ffmpeg/6.0 --enable-shared --enable-pthreads --enable-version3 --cc=clang --host-cflags= --host-ldflags= --enable-ffplay --enable-gnutls --enable-gpl --enable-libaom --enable-libaribb24 --enable-libbluray --enable-libdav1d --enable-libmp3lame --enable-libopus --enable-librav1e --enable-librist --enable-librubberband --enable-libsnappy --enable-libsrt --enable-libsvtav1 --enable-libtesseract --enable-libtheora --enable-libvidstab --enable-libvmaf --enable-libvorbis --enable-libvpx --enable-libwebp --enable-libx264 --enable-libx265 --enable-libxml2 --enable-libxvid --enable-lzma --enable-libfontconfig --enable-libfreetype --enable-frei0r --enable-libass --enable-libopencore-amrnb --enable-libopencore-amrwb --enable-libopenjpeg --enable-libspeex --enable-libsoxr --enable-libzmq --enable-libzimg --disable-libjack --disable-indev=jack --enable-videotoolbox --enable-audiotoolbox --enable-neon\n",
      "  libavutil      58.  2.100 / 58.  2.100\n",
      "  libavcodec     60.  3.100 / 60.  3.100\n",
      "  libavformat    60.  3.100 / 60.  3.100\n",
      "  libavdevice    60.  1.100 / 60.  1.100\n",
      "  libavfilter     9.  3.100 /  9.  3.100\n",
      "  libswscale      7.  1.100 /  7.  1.100\n",
      "  libswresample   4. 10.100 /  4. 10.100\n",
      "  libpostproc    57.  1.100 / 57.  1.100\n",
      "Input #0, mov,mp4,m4a,3gp,3g2,mj2, from 'video.mp4':\n",
      "  Metadata:\n",
      "    major_brand     : mp42\n",
      "    minor_version   : 0\n",
      "    compatible_brands: isommp42\n",
      "    creation_time   : 2019-11-09T06:18:31.000000Z\n",
      "  Duration: 00:01:55.68, start: 0.000000, bitrate: 114 kb/s\n",
      "  Stream #0:0[0x1](und): Video: h264 (Main) (avc1 / 0x31637661), yuv420p(progressive), 480x360 [SAR 1:1 DAR 4:3], 64 kb/s, 30 fps, 30 tbr, 15360 tbn (default)\n",
      "    Metadata:\n",
      "      creation_time   : 2019-11-09T06:18:31.000000Z\n",
      "      handler_name    : ISO Media file produced by Google Inc. Created on: 11/08/2019.\n",
      "      vendor_id       : [0][0][0][0]\n",
      "  Stream #0:1[0x2](eng): Audio: aac (HE-AAC) (mp4a / 0x6134706D), 44100 Hz, stereo, fltp, 48 kb/s (default)\n",
      "    Metadata:\n",
      "      creation_time   : 2019-11-09T06:18:31.000000Z\n",
      "      handler_name    : ISO Media file produced by Google Inc. Created on: 11/08/2019.\n",
      "      vendor_id       : [0][0][0][0]\n",
      "Output #0, mp4, to 'output.mp4':\n",
      "  Metadata:\n",
      "    major_brand     : mp42\n",
      "    minor_version   : 0\n",
      "    compatible_brands: isommp42\n",
      "    encoder         : Lavf60.3.100\n",
      "  Stream #0:0(und): Video: h264 (Main) (avc1 / 0x31637661), yuv420p(progressive), 480x360 [SAR 1:1 DAR 4:3], q=2-31, 64 kb/s, 30 fps, 30 tbr, 15360 tbn (default)\n",
      "    Metadata:\n",
      "      creation_time   : 2019-11-09T06:18:31.000000Z\n",
      "      handler_name    : ISO Media file produced by Google Inc. Created on: 11/08/2019.\n",
      "      vendor_id       : [0][0][0][0]\n",
      "  Stream #0:1(eng): Audio: aac (HE-AAC) (mp4a / 0x6134706D), 44100 Hz, stereo, fltp, 48 kb/s (default)\n",
      "    Metadata:\n",
      "      creation_time   : 2019-11-09T06:18:31.000000Z\n",
      "      handler_name    : ISO Media file produced by Google Inc. Created on: 11/08/2019.\n",
      "      vendor_id       : [0][0][0][0]\n",
      "Stream mapping:\n",
      "  Stream #0:0 -> #0:0 (copy)\n",
      "  Stream #0:1 -> #0:1 (copy)\n",
      "Press [q] to stop, [?] for help\n",
      "frame=  281 fps=0.0 q=-1.0 Lsize=     131kB time=00:00:09.96 bitrate= 107.8kbits/s speed=2.16e+03x    \n",
      "video:65kB audio:58kB subtitle:0kB other streams:0kB global headers:0kB muxing overhead: 6.363320%\n"
     ]
    }
   ],
   "source": [
    "!ffmpeg -i video.mp4 -ss 00:00:10 -to 00:00:20 -c copy output.mp4"
   ]
  },
  {
   "cell_type": "code",
   "execution_count": 1,
   "id": "b57b4f97-050c-4ea9-b8b3-cce1305f5871",
   "metadata": {
    "scrolled": true
   },
   "outputs": [
    {
     "name": "stdout",
     "output_type": "stream",
     "text": [
      "0:00 0:07\n",
      "ffmpeg version 6.0 Copyright (c) 2000-2023 the FFmpeg developers\n",
      "  built with Apple clang version 14.0.3 (clang-1403.0.22.14.1)\n",
      "  configuration: --prefix=/opt/homebrew/Cellar/ffmpeg/6.0 --enable-shared --enable-pthreads --enable-version3 --cc=clang --host-cflags= --host-ldflags= --enable-ffplay --enable-gnutls --enable-gpl --enable-libaom --enable-libaribb24 --enable-libbluray --enable-libdav1d --enable-libmp3lame --enable-libopus --enable-librav1e --enable-librist --enable-librubberband --enable-libsnappy --enable-libsrt --enable-libsvtav1 --enable-libtesseract --enable-libtheora --enable-libvidstab --enable-libvmaf --enable-libvorbis --enable-libvpx --enable-libwebp --enable-libx264 --enable-libx265 --enable-libxml2 --enable-libxvid --enable-lzma --enable-libfontconfig --enable-libfreetype --enable-frei0r --enable-libass --enable-libopencore-amrnb --enable-libopencore-amrwb --enable-libopenjpeg --enable-libspeex --enable-libsoxr --enable-libzmq --enable-libzimg --disable-libjack --disable-indev=jack --enable-videotoolbox --enable-audiotoolbox --enable-neon\n",
      "  libavutil      58.  2.100 / 58.  2.100\n",
      "  libavcodec     60.  3.100 / 60.  3.100\n",
      "  libavformat    60.  3.100 / 60.  3.100\n",
      "  libavdevice    60.  1.100 / 60.  1.100\n",
      "  libavfilter     9.  3.100 /  9.  3.100\n",
      "  libswscale      7.  1.100 /  7.  1.100\n",
      "  libswresample   4. 10.100 /  4. 10.100\n",
      "  libpostproc    57.  1.100 / 57.  1.100\n",
      "Input #0, mov,mp4,m4a,3gp,3g2,mj2, from 'video.mp4':\n",
      "  Metadata:\n",
      "    major_brand     : mp42\n",
      "    minor_version   : 0\n",
      "    compatible_brands: isommp42\n",
      "    creation_time   : 2019-11-09T06:18:31.000000Z\n",
      "  Duration: 00:01:55.68, start: 0.000000, bitrate: 114 kb/s\n",
      "  Stream #0:0[0x1](und): Video: h264 (Main) (avc1 / 0x31637661), yuv420p(progressive), 480x360 [SAR 1:1 DAR 4:3], 64 kb/s, 30 fps, 30 tbr, 15360 tbn (default)\n",
      "    Metadata:\n",
      "      creation_time   : 2019-11-09T06:18:31.000000Z\n",
      "      handler_name    : ISO Media file produced by Google Inc. Created on: 11/08/2019.\n",
      "      vendor_id       : [0][0][0][0]\n",
      "  Stream #0:1[0x2](eng): Audio: aac (HE-AAC) (mp4a / 0x6134706D), 44100 Hz, stereo, fltp, 48 kb/s (default)\n",
      "    Metadata:\n",
      "      creation_time   : 2019-11-09T06:18:31.000000Z\n",
      "      handler_name    : ISO Media file produced by Google Inc. Created on: 11/08/2019.\n",
      "      vendor_id       : [0][0][0][0]\n",
      "Output #0, mp4, to 'data0.mp4':\n",
      "  Metadata:\n",
      "    major_brand     : mp42\n",
      "    minor_version   : 0\n",
      "    compatible_brands: isommp42\n",
      "    encoder         : Lavf60.3.100\n",
      "  Stream #0:0(und): Video: h264 (Main) (avc1 / 0x31637661), yuv420p(progressive), 480x360 [SAR 1:1 DAR 4:3], q=2-31, 64 kb/s, 30 fps, 30 tbr, 15360 tbn (default)\n",
      "    Metadata:\n",
      "      creation_time   : 2019-11-09T06:18:31.000000Z\n",
      "      handler_name    : ISO Media file produced by Google Inc. Created on: 11/08/2019.\n",
      "      vendor_id       : [0][0][0][0]\n",
      "  Stream #0:1(eng): Audio: aac (HE-AAC) (mp4a / 0x6134706D), 44100 Hz, stereo, fltp, 48 kb/s (default)\n",
      "    Metadata:\n",
      "      creation_time   : 2019-11-09T06:18:31.000000Z\n",
      "      handler_name    : ISO Media file produced by Google Inc. Created on: 11/08/2019.\n",
      "      vendor_id       : [0][0][0][0]\n",
      "Stream mapping:\n",
      "  Stream #0:0 -> #0:0 (copy)\n",
      "  Stream #0:1 -> #0:1 (copy)\n",
      "Press [q] to stop, [?] for help\n",
      "frame=   51 fps=0.0 q=-1.0 Lsize=      68kB time=00:00:06.96 bitrate=  80.3kbits/s speed=4.24e+03x    \n",
      "video:24kB audio:42kB subtitle:0kB other streams:0kB global headers:0kB muxing overhead: 4.709988%\n"
     ]
    },
    {
     "ename": "AttributeError",
     "evalue": "'list' object has no attribute 'sleep'",
     "output_type": "error",
     "traceback": [
      "\u001b[0;31m---------------------------------------------------------------------------\u001b[0m",
      "\u001b[0;31mAttributeError\u001b[0m                            Traceback (most recent call last)",
      "Cell \u001b[0;32mIn[1], line 21\u001b[0m\n\u001b[1;32m     19\u001b[0m \u001b[38;5;28mprint\u001b[39m(start_time, end_time)\n\u001b[1;32m     20\u001b[0m get_ipython()\u001b[38;5;241m.\u001b[39msystem(\u001b[38;5;124m'\u001b[39m\u001b[38;5;124mffmpeg -i \u001b[39m\u001b[38;5;132;01m{file_name}\u001b[39;00m\u001b[38;5;124m -ss \u001b[39m\u001b[38;5;132;01m{start_time}\u001b[39;00m\u001b[38;5;124m -to \u001b[39m\u001b[38;5;132;01m{end_time}\u001b[39;00m\u001b[38;5;124m -c copy \u001b[39m\u001b[38;5;132;01m{data_name}\u001b[39;00m\u001b[38;5;124m'\u001b[39m)\n\u001b[0;32m---> 21\u001b[0m \u001b[43mtime\u001b[49m\u001b[38;5;241;43m.\u001b[39;49m\u001b[43msleep\u001b[49m(\u001b[38;5;241m1\u001b[39m)\n",
      "\u001b[0;31mAttributeError\u001b[0m: 'list' object has no attribute 'sleep'"
     ]
    }
   ],
   "source": [
    "time_data = \"../phrase (2)/phrase data.txt\"\n",
    "file_name = \"video.mp4\"\n",
    "\n",
    "f = open(time_data, 'r')\n",
    "line = f.readlines()\n",
    "\n",
    "\n",
    "time_list = []\n",
    "time_list.append('0:00')\n",
    "\n",
    "for i in range(len(line[0].split(' '))):\n",
    "    time_list.append(line[0].split(' ')[i])\n",
    "    \n",
    "#!ffmpeg -i {file_name} -ss {start_time} -to {end_time} -c copy output1.mp4\n",
    "for i in range(len(time_list)-1):\n",
    "    data_name = \"data\" + str(i) + \".mp4\"\n",
    "    start_time = time_list[i]\n",
    "    end_time = time_list[i+1]\n",
    "    print(start_time, end_time)\n",
    "    !ffmpeg -i {file_name} -ss {start_time} -to {end_time} -c copy {data_name}"
   ]
  },
  {
   "cell_type": "code",
   "execution_count": 46,
   "id": "b7a3e5be-1194-46c6-8304-b73396688834",
   "metadata": {},
   "outputs": [
    {
     "name": "stdout",
     "output_type": "stream",
     "text": [
      "['0:00', '0:07', '0:12', '0:18', '0:23', '0:29', '0:34', '0:40', '0:45', '0:51', '0:56', '1:02', '1:08', '1:13', '1:19', '1:24', '1:30', '1:38', '1:46']\n",
      "0:00 0:07\n",
      "0:07 0:12\n",
      "0:12 0:18\n",
      "0:18 0:23\n",
      "0:23 0:29\n",
      "0:29 0:34\n",
      "0:34 0:40\n",
      "0:40 0:45\n",
      "0:45 0:51\n",
      "0:51 0:56\n",
      "0:56 1:02\n",
      "1:02 1:08\n",
      "1:08 1:13\n",
      "1:13 1:19\n",
      "1:19 1:24\n",
      "1:24 1:30\n",
      "1:30 1:38\n",
      "1:38 1:46\n"
     ]
    }
   ],
   "source": [
    "time_data = \"../phrase (2)/phrase data.txt\"\n",
    "f = open(time_data, 'r')\n",
    "line = f.readlines()\n",
    "\n",
    "time = []\n",
    "time.append('0:00')\n",
    "for i in range(len(line[0].split(' '))):\n",
    "    time.append(line[0].split(' ')[i])\n",
    "print(time)\n",
    "\n"
   ]
  },
  {
   "cell_type": "code",
   "execution_count": null,
   "id": "a3bc9cdc-4a17-4a72-a9ba-1846fd361c84",
   "metadata": {},
   "outputs": [],
   "source": []
  }
 ],
 "metadata": {
  "kernelspec": {
   "display_name": "Python 3 (ipykernel)",
   "language": "python",
   "name": "python3"
  },
  "language_info": {
   "codemirror_mode": {
    "name": "ipython",
    "version": 3
   },
   "file_extension": ".py",
   "mimetype": "text/x-python",
   "name": "python",
   "nbconvert_exporter": "python",
   "pygments_lexer": "ipython3",
   "version": "3.8.17"
  }
 },
 "nbformat": 4,
 "nbformat_minor": 5
}
