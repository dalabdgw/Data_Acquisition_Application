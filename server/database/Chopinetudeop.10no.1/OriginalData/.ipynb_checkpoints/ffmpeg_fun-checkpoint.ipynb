{
 "cells": [
  {
   "cell_type": "markdown",
   "id": "008c989e-18cc-4b30-9a69-bc4765d5b65a",
   "metadata": {},
   "source": [
    " # ffmpeg로 비디오 자르기\n",
    "\n",
    "Input : 원하는 SEC\n",
    "OUTPUT : 동영상 FIle"
   ]
  },
  {
   "cell_type": "code",
   "execution_count": 1,
   "id": "282bc6f4-158b-4ac2-ad0b-dd79e9688b35",
   "metadata": {},
   "outputs": [
    {
     "name": "stdout",
     "output_type": "stream",
     "text": [
      "ffmpeg version 6.0 Copyright (c) 2000-2023 the FFmpeg developers\n",
      "  built with Apple clang version 14.0.3 (clang-1403.0.22.14.1)\n",
      "  configuration: --prefix=/opt/homebrew/Cellar/ffmpeg/6.0 --enable-shared --enable-pthreads --enable-version3 --cc=clang --host-cflags= --host-ldflags= --enable-ffplay --enable-gnutls --enable-gpl --enable-libaom --enable-libaribb24 --enable-libbluray --enable-libdav1d --enable-libmp3lame --enable-libopus --enable-librav1e --enable-librist --enable-librubberband --enable-libsnappy --enable-libsrt --enable-libsvtav1 --enable-libtesseract --enable-libtheora --enable-libvidstab --enable-libvmaf --enable-libvorbis --enable-libvpx --enable-libwebp --enable-libx264 --enable-libx265 --enable-libxml2 --enable-libxvid --enable-lzma --enable-libfontconfig --enable-libfreetype --enable-frei0r --enable-libass --enable-libopencore-amrnb --enable-libopencore-amrwb --enable-libopenjpeg --enable-libspeex --enable-libsoxr --enable-libzmq --enable-libzimg --disable-libjack --disable-indev=jack --enable-videotoolbox --enable-audiotoolbox --enable-neon\n",
      "  libavutil      58.  2.100 / 58.  2.100\n",
      "  libavcodec     60.  3.100 / 60.  3.100\n",
      "  libavformat    60.  3.100 / 60.  3.100\n",
      "  libavdevice    60.  1.100 / 60.  1.100\n",
      "  libavfilter     9.  3.100 /  9.  3.100\n",
      "  libswscale      7.  1.100 /  7.  1.100\n",
      "  libswresample   4. 10.100 /  4. 10.100\n",
      "  libpostproc    57.  1.100 / 57.  1.100\n",
      "\u001b[1;31minput.mp4: No such file or directory\n",
      "\u001b[0m"
     ]
    }
   ],
   "source": [
    "!ffmpeg -i /Users/parkminseo/Desktop/피아노 샘플 데이터/Chopin etude op.10 no.1/OriginalData -ss 00:00:10 -to 00:00:20 -c copy output.mp4"
   ]
  },
  {
   "cell_type": "code",
   "execution_count": null,
   "id": "b57b4f97-050c-4ea9-b8b3-cce1305f5871",
   "metadata": {},
   "outputs": [],
   "source": [
    "time = [\n",
    "    [00,07],\n",
    "    [07,12],\n",
    "    [18,23],\n",
    "    [23,29],\n",
    "    \n",
    "]\n",
    "file_name = \"/Users/parkminseo/Desktop/피아노 샘플 데이터/Chopin etude op.10 no.1/OriginalData\"\n",
    "\n",
    "for i in range(len(time)):\n",
    "    !ffmpeg -i input.mp4 -ss 00:00:10 -to 00:00:20 -c copy output.mp4"
   ]
  }
 ],
 "metadata": {
  "kernelspec": {
   "display_name": "Python 3 (ipykernel)",
   "language": "python",
   "name": "python3"
  },
  "language_info": {
   "codemirror_mode": {
    "name": "ipython",
    "version": 3
   },
   "file_extension": ".py",
   "mimetype": "text/x-python",
   "name": "python",
   "nbconvert_exporter": "python",
   "pygments_lexer": "ipython3",
   "version": "3.8.17"
  }
 },
 "nbformat": 4,
 "nbformat_minor": 5
}
